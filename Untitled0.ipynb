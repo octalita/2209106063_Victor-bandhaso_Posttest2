{
  "nbformat": 4,
  "nbformat_minor": 0,
  "metadata": {
    "colab": {
      "provenance": []
    },
    "kernelspec": {
      "name": "python3",
      "display_name": "Python 3"
    },
    "language_info": {
      "name": "python"
    }
  },
  "cells": [
    {
      "cell_type": "code",
      "execution_count": null,
      "metadata": {
        "id": "KIFkrj0tgwI5"
      },
      "outputs": [],
      "source": []
    },
    {
      "cell_type": "markdown",
      "source": [
        "Victor Bandhaso\n",
        "\n",
        "2209106063\n",
        "\n",
        "b1"
      ],
      "metadata": {
        "id": "dw3Utzq1gyoC"
      }
    },
    {
      "cell_type": "markdown",
      "source": [
        "import file"
      ],
      "metadata": {
        "id": "274DwLUdg38T"
      }
    },
    {
      "cell_type": "code",
      "source": [
        "from google.colab import files\n",
        "uploaded = files.upload()\n"
      ],
      "metadata": {
        "colab": {
          "base_uri": "https://localhost:8080/",
          "height": 73
        },
        "id": "t9Ye_FE9g6Nl",
        "outputId": "bb002330-d2eb-43d6-9082-70d2fbd4a24e"
      },
      "execution_count": 1,
      "outputs": [
        {
          "output_type": "display_data",
          "data": {
            "text/plain": [
              "<IPython.core.display.HTML object>"
            ],
            "text/html": [
              "\n",
              "     <input type=\"file\" id=\"files-0b318e8b-24ea-49e2-a816-5435faa2710f\" name=\"files[]\" multiple disabled\n",
              "        style=\"border:none\" />\n",
              "     <output id=\"result-0b318e8b-24ea-49e2-a816-5435faa2710f\">\n",
              "      Upload widget is only available when the cell has been executed in the\n",
              "      current browser session. Please rerun this cell to enable.\n",
              "      </output>\n",
              "      <script>// Copyright 2017 Google LLC\n",
              "//\n",
              "// Licensed under the Apache License, Version 2.0 (the \"License\");\n",
              "// you may not use this file except in compliance with the License.\n",
              "// You may obtain a copy of the License at\n",
              "//\n",
              "//      http://www.apache.org/licenses/LICENSE-2.0\n",
              "//\n",
              "// Unless required by applicable law or agreed to in writing, software\n",
              "// distributed under the License is distributed on an \"AS IS\" BASIS,\n",
              "// WITHOUT WARRANTIES OR CONDITIONS OF ANY KIND, either express or implied.\n",
              "// See the License for the specific language governing permissions and\n",
              "// limitations under the License.\n",
              "\n",
              "/**\n",
              " * @fileoverview Helpers for google.colab Python module.\n",
              " */\n",
              "(function(scope) {\n",
              "function span(text, styleAttributes = {}) {\n",
              "  const element = document.createElement('span');\n",
              "  element.textContent = text;\n",
              "  for (const key of Object.keys(styleAttributes)) {\n",
              "    element.style[key] = styleAttributes[key];\n",
              "  }\n",
              "  return element;\n",
              "}\n",
              "\n",
              "// Max number of bytes which will be uploaded at a time.\n",
              "const MAX_PAYLOAD_SIZE = 100 * 1024;\n",
              "\n",
              "function _uploadFiles(inputId, outputId) {\n",
              "  const steps = uploadFilesStep(inputId, outputId);\n",
              "  const outputElement = document.getElementById(outputId);\n",
              "  // Cache steps on the outputElement to make it available for the next call\n",
              "  // to uploadFilesContinue from Python.\n",
              "  outputElement.steps = steps;\n",
              "\n",
              "  return _uploadFilesContinue(outputId);\n",
              "}\n",
              "\n",
              "// This is roughly an async generator (not supported in the browser yet),\n",
              "// where there are multiple asynchronous steps and the Python side is going\n",
              "// to poll for completion of each step.\n",
              "// This uses a Promise to block the python side on completion of each step,\n",
              "// then passes the result of the previous step as the input to the next step.\n",
              "function _uploadFilesContinue(outputId) {\n",
              "  const outputElement = document.getElementById(outputId);\n",
              "  const steps = outputElement.steps;\n",
              "\n",
              "  const next = steps.next(outputElement.lastPromiseValue);\n",
              "  return Promise.resolve(next.value.promise).then((value) => {\n",
              "    // Cache the last promise value to make it available to the next\n",
              "    // step of the generator.\n",
              "    outputElement.lastPromiseValue = value;\n",
              "    return next.value.response;\n",
              "  });\n",
              "}\n",
              "\n",
              "/**\n",
              " * Generator function which is called between each async step of the upload\n",
              " * process.\n",
              " * @param {string} inputId Element ID of the input file picker element.\n",
              " * @param {string} outputId Element ID of the output display.\n",
              " * @return {!Iterable<!Object>} Iterable of next steps.\n",
              " */\n",
              "function* uploadFilesStep(inputId, outputId) {\n",
              "  const inputElement = document.getElementById(inputId);\n",
              "  inputElement.disabled = false;\n",
              "\n",
              "  const outputElement = document.getElementById(outputId);\n",
              "  outputElement.innerHTML = '';\n",
              "\n",
              "  const pickedPromise = new Promise((resolve) => {\n",
              "    inputElement.addEventListener('change', (e) => {\n",
              "      resolve(e.target.files);\n",
              "    });\n",
              "  });\n",
              "\n",
              "  const cancel = document.createElement('button');\n",
              "  inputElement.parentElement.appendChild(cancel);\n",
              "  cancel.textContent = 'Cancel upload';\n",
              "  const cancelPromise = new Promise((resolve) => {\n",
              "    cancel.onclick = () => {\n",
              "      resolve(null);\n",
              "    };\n",
              "  });\n",
              "\n",
              "  // Wait for the user to pick the files.\n",
              "  const files = yield {\n",
              "    promise: Promise.race([pickedPromise, cancelPromise]),\n",
              "    response: {\n",
              "      action: 'starting',\n",
              "    }\n",
              "  };\n",
              "\n",
              "  cancel.remove();\n",
              "\n",
              "  // Disable the input element since further picks are not allowed.\n",
              "  inputElement.disabled = true;\n",
              "\n",
              "  if (!files) {\n",
              "    return {\n",
              "      response: {\n",
              "        action: 'complete',\n",
              "      }\n",
              "    };\n",
              "  }\n",
              "\n",
              "  for (const file of files) {\n",
              "    const li = document.createElement('li');\n",
              "    li.append(span(file.name, {fontWeight: 'bold'}));\n",
              "    li.append(span(\n",
              "        `(${file.type || 'n/a'}) - ${file.size} bytes, ` +\n",
              "        `last modified: ${\n",
              "            file.lastModifiedDate ? file.lastModifiedDate.toLocaleDateString() :\n",
              "                                    'n/a'} - `));\n",
              "    const percent = span('0% done');\n",
              "    li.appendChild(percent);\n",
              "\n",
              "    outputElement.appendChild(li);\n",
              "\n",
              "    const fileDataPromise = new Promise((resolve) => {\n",
              "      const reader = new FileReader();\n",
              "      reader.onload = (e) => {\n",
              "        resolve(e.target.result);\n",
              "      };\n",
              "      reader.readAsArrayBuffer(file);\n",
              "    });\n",
              "    // Wait for the data to be ready.\n",
              "    let fileData = yield {\n",
              "      promise: fileDataPromise,\n",
              "      response: {\n",
              "        action: 'continue',\n",
              "      }\n",
              "    };\n",
              "\n",
              "    // Use a chunked sending to avoid message size limits. See b/62115660.\n",
              "    let position = 0;\n",
              "    do {\n",
              "      const length = Math.min(fileData.byteLength - position, MAX_PAYLOAD_SIZE);\n",
              "      const chunk = new Uint8Array(fileData, position, length);\n",
              "      position += length;\n",
              "\n",
              "      const base64 = btoa(String.fromCharCode.apply(null, chunk));\n",
              "      yield {\n",
              "        response: {\n",
              "          action: 'append',\n",
              "          file: file.name,\n",
              "          data: base64,\n",
              "        },\n",
              "      };\n",
              "\n",
              "      let percentDone = fileData.byteLength === 0 ?\n",
              "          100 :\n",
              "          Math.round((position / fileData.byteLength) * 100);\n",
              "      percent.textContent = `${percentDone}% done`;\n",
              "\n",
              "    } while (position < fileData.byteLength);\n",
              "  }\n",
              "\n",
              "  // All done.\n",
              "  yield {\n",
              "    response: {\n",
              "      action: 'complete',\n",
              "    }\n",
              "  };\n",
              "}\n",
              "\n",
              "scope.google = scope.google || {};\n",
              "scope.google.colab = scope.google.colab || {};\n",
              "scope.google.colab._files = {\n",
              "  _uploadFiles,\n",
              "  _uploadFilesContinue,\n",
              "};\n",
              "})(self);\n",
              "</script> "
            ]
          },
          "metadata": {}
        },
        {
          "output_type": "stream",
          "name": "stdout",
          "text": [
            "Saving netflix_titles.csv to netflix_titles.csv\n"
          ]
        }
      ]
    },
    {
      "cell_type": "markdown",
      "source": [
        "Import Library yang diperlukan"
      ],
      "metadata": {
        "id": "IxX74jbQhmzr"
      }
    },
    {
      "cell_type": "code",
      "source": [
        "import pandas as pd\n",
        "import prettytable as pretty\n",
        "import matplotlib.pyplot as plt\n",
        "import seaborn as sns\n",
        "\n",
        "# Membaca file CSV\n",
        "data = pd.read_csv('netflix_titles.csv')\n"
      ],
      "metadata": {
        "id": "WIDJJpiLhoGq"
      },
      "execution_count": 3,
      "outputs": []
    },
    {
      "cell_type": "code",
      "source": [
        "data.info()\n"
      ],
      "metadata": {
        "colab": {
          "base_uri": "https://localhost:8080/"
        },
        "id": "bXBjfZ5dh-bU",
        "outputId": "2bb43585-6598-4c1b-8685-ebc194e73910"
      },
      "execution_count": 4,
      "outputs": [
        {
          "output_type": "stream",
          "name": "stdout",
          "text": [
            "<class 'pandas.core.frame.DataFrame'>\n",
            "RangeIndex: 8807 entries, 0 to 8806\n",
            "Data columns (total 12 columns):\n",
            " #   Column        Non-Null Count  Dtype \n",
            "---  ------        --------------  ----- \n",
            " 0   show_id       8807 non-null   object\n",
            " 1   type          8807 non-null   object\n",
            " 2   title         8807 non-null   object\n",
            " 3   director      6173 non-null   object\n",
            " 4   cast          7982 non-null   object\n",
            " 5   country       7976 non-null   object\n",
            " 6   date_added    8797 non-null   object\n",
            " 7   release_year  8807 non-null   int64 \n",
            " 8   rating        8803 non-null   object\n",
            " 9   duration      8804 non-null   object\n",
            " 10  listed_in     8807 non-null   object\n",
            " 11  description   8807 non-null   object\n",
            "dtypes: int64(1), object(11)\n",
            "memory usage: 825.8+ KB\n"
          ]
        }
      ]
    },
    {
      "cell_type": "code",
      "source": [
        "# Rata-rata, standar deviasi, nilai minimum, maksimum, Q1, Q2, dan Q3\n",
        "numerical_data = data.select_dtypes(include=['float64', 'int64'])\n",
        "\n",
        "# Statistik dasar\n",
        "mean = numerical_data.mean()\n",
        "std = numerical_data.std()\n",
        "min_val = numerical_data.min()\n",
        "max_val = numerical_data.max()\n",
        "\n",
        "# Kuartil\n",
        "Q1 = numerical_data.quantile(0.25)\n",
        "Q2 = numerical_data.median()\n",
        "Q3 = numerical_data.quantile(0.75)\n",
        "\n",
        "# Tampilkan\n",
        "print(f\"Rata-rata:\\n{mean}\\n\")\n",
        "print(f\"Standar Deviasi:\\n{std}\\n\")\n",
        "print(f\"Nilai Minimum:\\n{min_val}\\n\")\n",
        "print(f\"Nilai Maksimum:\\n{max_val}\\n\")\n",
        "print(f\"Q1:\\n{Q1}\\n\")\n",
        "print(f\"Q2:\\n{Q2}\\n\")\n",
        "print(f\"Q3:\\n{Q3}\\n\")\n"
      ],
      "metadata": {
        "colab": {
          "base_uri": "https://localhost:8080/"
        },
        "id": "8CD2UQF-iolG",
        "outputId": "99f6b67b-d68f-416a-e948-4565feada8d4"
      },
      "execution_count": 5,
      "outputs": [
        {
          "output_type": "stream",
          "name": "stdout",
          "text": [
            "Rata-rata:\n",
            "release_year    2014.180198\n",
            "dtype: float64\n",
            "\n",
            "Standar Deviasi:\n",
            "release_year    8.819312\n",
            "dtype: float64\n",
            "\n",
            "Nilai Minimum:\n",
            "release_year    1925\n",
            "dtype: int64\n",
            "\n",
            "Nilai Maksimum:\n",
            "release_year    2021\n",
            "dtype: int64\n",
            "\n",
            "Q1:\n",
            "release_year    2013.0\n",
            "Name: 0.25, dtype: float64\n",
            "\n",
            "Q2:\n",
            "release_year    2017.0\n",
            "dtype: float64\n",
            "\n",
            "Q3:\n",
            "release_year    2019.0\n",
            "Name: 0.75, dtype: float64\n",
            "\n"
          ]
        }
      ]
    },
    {
      "cell_type": "markdown",
      "source": [],
      "metadata": {
        "id": "Y7g2SsQliyO9"
      }
    },
    {
      "cell_type": "markdown",
      "source": [
        "Tampilkan rata-rata, standar deviasi, nilai minimum, nilai maksimum, Q1, Q2, dan Q3 dari attribute bertipe angka."
      ],
      "metadata": {
        "id": "oHnDcHnnidrV"
      }
    },
    {
      "cell_type": "markdown",
      "source": [],
      "metadata": {
        "id": "rTwV7fmQigbW"
      }
    },
    {
      "cell_type": "markdown",
      "source": [
        "Tampilkan 10 Record Pertama dengan Attribute Tipe Angka"
      ],
      "metadata": {
        "id": "uFcmsfDFi4e6"
      }
    },
    {
      "cell_type": "code",
      "source": [
        "# Tampilkan 10 record pertama dengan tipe angka\n",
        "print(numerical_data.head(10))\n"
      ],
      "metadata": {
        "colab": {
          "base_uri": "https://localhost:8080/"
        },
        "id": "7kFRs4wdi8mb",
        "outputId": "c7724253-8408-417c-d154-d8ecfd6481a2"
      },
      "execution_count": 6,
      "outputs": [
        {
          "output_type": "stream",
          "name": "stdout",
          "text": [
            "   release_year\n",
            "0          2020\n",
            "1          2021\n",
            "2          2021\n",
            "3          2021\n",
            "4          2021\n",
            "5          2021\n",
            "6          2021\n",
            "7          1993\n",
            "8          2021\n",
            "9          2021\n"
          ]
        }
      ]
    },
    {
      "cell_type": "markdown",
      "source": [
        "Informasi Jumlah Record, Jumlah Attribute, Nama Attribute, dan Jumlah Attribute dengan Tipe Angka"
      ],
      "metadata": {
        "id": "LG5tXnJUjFFU"
      }
    },
    {
      "cell_type": "code",
      "source": [
        "# Jumlah record dan jumlah attribute\n",
        "num_records, num_attributes = data.shape\n",
        "print(f\"Jumlah Record: {num_records}\")\n",
        "print(f\"Jumlah Attribute: {num_attributes}\")\n",
        "\n",
        "# Nama-nama attribute\n",
        "print(f\"Nama Attribute: {data.columns.tolist()}\")\n",
        "\n",
        "# Jumlah attribute bertipe angka\n",
        "num_numerical_attributes = numerical_data.shape[1]\n",
        "print(f\"Jumlah Attribute Tipe Angka: {num_numerical_attributes}\")\n"
      ],
      "metadata": {
        "colab": {
          "base_uri": "https://localhost:8080/"
        },
        "id": "C44FnsNTjGtP",
        "outputId": "8dafa2c6-fd80-48a4-ef50-7755a0ec5b44"
      },
      "execution_count": 7,
      "outputs": [
        {
          "output_type": "stream",
          "name": "stdout",
          "text": [
            "Jumlah Record: 8807\n",
            "Jumlah Attribute: 12\n",
            "Nama Attribute: ['show_id', 'type', 'title', 'director', 'cast', 'country', 'date_added', 'release_year', 'rating', 'duration', 'listed_in', 'description']\n",
            "Jumlah Attribute Tipe Angka: 1\n"
          ]
        }
      ]
    },
    {
      "cell_type": "markdown",
      "source": [
        "Jumlah Label dari Semua Attribute yang Bernilai Object"
      ],
      "metadata": {
        "id": "iVx1oH0PjTwj"
      }
    },
    {
      "cell_type": "code",
      "source": [
        "# Attribute dengan tipe object (kategori)\n",
        "categorical_data = data.select_dtypes(include=['object'])\n",
        "\n",
        "# Tampilkan jumlah label dari attribute bertipe object\n",
        "for column in categorical_data.columns:\n",
        "    print(f\"\\n{column}:\\n{categorical_data[column].value_counts()}\")\n"
      ],
      "metadata": {
        "colab": {
          "base_uri": "https://localhost:8080/"
        },
        "id": "EOpiSGevjVpe",
        "outputId": "8253ad74-085a-4411-d642-eeefa526d05b"
      },
      "execution_count": 8,
      "outputs": [
        {
          "output_type": "stream",
          "name": "stdout",
          "text": [
            "\n",
            "show_id:\n",
            "show_id\n",
            "s1       1\n",
            "s5875    1\n",
            "s5869    1\n",
            "s5870    1\n",
            "s5871    1\n",
            "        ..\n",
            "s2931    1\n",
            "s2930    1\n",
            "s2929    1\n",
            "s2928    1\n",
            "s8807    1\n",
            "Name: count, Length: 8807, dtype: int64\n",
            "\n",
            "type:\n",
            "type\n",
            "Movie      6131\n",
            "TV Show    2676\n",
            "Name: count, dtype: int64\n",
            "\n",
            "title:\n",
            "title\n",
            "Dick Johnson Is Dead                     1\n",
            "Ip Man 2                                 1\n",
            "Hannibal Buress: Comedy Camisado         1\n",
            "Turbo FAST                               1\n",
            "Masha's Tales                            1\n",
            "                                        ..\n",
            "Love for Sale 2                          1\n",
            "ROAD TO ROMA                             1\n",
            "Good Time                                1\n",
            "Captain Underpants Epic Choice-o-Rama    1\n",
            "Zubaan                                   1\n",
            "Name: count, Length: 8807, dtype: int64\n",
            "\n",
            "director:\n",
            "director\n",
            "Rajiv Chilaka                     19\n",
            "Raúl Campos, Jan Suter            18\n",
            "Marcus Raboy                      16\n",
            "Suhas Kadav                       16\n",
            "Jay Karas                         14\n",
            "                                  ..\n",
            "Raymie Muzquiz, Stu Livingston     1\n",
            "Joe Menendez                       1\n",
            "Eric Bross                         1\n",
            "Will Eisenberg                     1\n",
            "Mozez Singh                        1\n",
            "Name: count, Length: 4528, dtype: int64\n",
            "\n",
            "cast:\n",
            "cast\n",
            "David Attenborough                                                                                                                                                                            19\n",
            "Vatsal Dubey, Julie Tejwani, Rupa Bhimani, Jigna Bhardwaj, Rajesh Kava, Mousam, Swapnil                                                                                                       14\n",
            "Samuel West                                                                                                                                                                                   10\n",
            "Jeff Dunham                                                                                                                                                                                    7\n",
            "David Spade, London Hughes, Fortune Feimster                                                                                                                                                   6\n",
            "                                                                                                                                                                                              ..\n",
            "Michael Peña, Diego Luna, Tenoch Huerta, Joaquin Cosio, José María Yazpik, Matt Letscher, Alyssa Diaz                                                                                          1\n",
            "Nick Lachey, Vanessa Lachey                                                                                                                                                                    1\n",
            "Takeru Sato, Kasumi Arimura, Haru, Kentaro Sakaguchi, Takayuki Yamada, Kendo Kobayashi, Ken Yasuda, Arata Furuta, Suzuki Matsuo, Koichi Yamadera, Arata Iura, Chikako Kaku, Kotaro Yoshida     1\n",
            "Toyin Abraham, Sambasa Nzeribe, Chioma Chukwuka Akpotha, Chioma Omeruah, Chiwetalu Agu, Dele Odule, Femi Adebayo, Bayray McNwizu, Biodun Stephen                                               1\n",
            "Vicky Kaushal, Sarah-Jane Dias, Raaghav Chanana, Manish Chaudhary, Meghna Malik, Malkeet Rauni, Anita Shabdish, Chittaranjan Tripathy                                                          1\n",
            "Name: count, Length: 7692, dtype: int64\n",
            "\n",
            "country:\n",
            "country\n",
            "United States                             2818\n",
            "India                                      972\n",
            "United Kingdom                             419\n",
            "Japan                                      245\n",
            "South Korea                                199\n",
            "                                          ... \n",
            "Romania, Bulgaria, Hungary                   1\n",
            "Uruguay, Guatemala                           1\n",
            "France, Senegal, Belgium                     1\n",
            "Mexico, United States, Spain, Colombia       1\n",
            "United Arab Emirates, Jordan                 1\n",
            "Name: count, Length: 748, dtype: int64\n",
            "\n",
            "date_added:\n",
            "date_added\n",
            "January 1, 2020      109\n",
            "November 1, 2019      89\n",
            "March 1, 2018         75\n",
            "December 31, 2019     74\n",
            "October 1, 2018       71\n",
            "                    ... \n",
            "December 4, 2016       1\n",
            "November 21, 2016      1\n",
            "November 19, 2016      1\n",
            "November 17, 2016      1\n",
            "January 11, 2020       1\n",
            "Name: count, Length: 1767, dtype: int64\n",
            "\n",
            "rating:\n",
            "rating\n",
            "TV-MA       3207\n",
            "TV-14       2160\n",
            "TV-PG        863\n",
            "R            799\n",
            "PG-13        490\n",
            "TV-Y7        334\n",
            "TV-Y         307\n",
            "PG           287\n",
            "TV-G         220\n",
            "NR            80\n",
            "G             41\n",
            "TV-Y7-FV       6\n",
            "NC-17          3\n",
            "UR             3\n",
            "74 min         1\n",
            "84 min         1\n",
            "66 min         1\n",
            "Name: count, dtype: int64\n",
            "\n",
            "duration:\n",
            "duration\n",
            "1 Season     1793\n",
            "2 Seasons     425\n",
            "3 Seasons     199\n",
            "90 min        152\n",
            "94 min        146\n",
            "             ... \n",
            "16 min          1\n",
            "186 min         1\n",
            "193 min         1\n",
            "189 min         1\n",
            "191 min         1\n",
            "Name: count, Length: 220, dtype: int64\n",
            "\n",
            "listed_in:\n",
            "listed_in\n",
            "Dramas, International Movies                          362\n",
            "Documentaries                                         359\n",
            "Stand-Up Comedy                                       334\n",
            "Comedies, Dramas, International Movies                274\n",
            "Dramas, Independent Movies, International Movies      252\n",
            "                                                     ... \n",
            "Kids' TV, TV Action & Adventure, TV Dramas              1\n",
            "TV Comedies, TV Dramas, TV Horror                       1\n",
            "Children & Family Movies, Comedies, LGBTQ Movies        1\n",
            "Kids' TV, Spanish-Language TV Shows, Teen TV Shows      1\n",
            "Cult Movies, Dramas, Thrillers                          1\n",
            "Name: count, Length: 514, dtype: int64\n",
            "\n",
            "description:\n",
            "description\n",
            "Paranormal activity at a lush, abandoned property alarms a group eager to redevelop the site, but the eerie events may not be as unearthly as they think.    4\n",
            "Challenged to compose 100 songs before he can marry the girl he loves, a tortured but passionate singer-songwriter embarks on a poignant musical journey.    3\n",
            "A surly septuagenarian gets another chance at her 20s after having her photo snapped at a studio that magically takes 50 years off her life.                 3\n",
            "Multiple women report their husbands as missing but when it appears they are looking for the same man, a police officer traces their cryptic connection.     3\n",
            "Secrets bubble to the surface after a sensual encounter and an unforeseen crime entangle two friends and a woman caught between them.                        2\n",
            "                                                                                                                                                            ..\n",
            "Sent away to evade an arranged marriage, a 14-year-old begins a harrowing journey of sex work and poverty in the slums of Accra.                             1\n",
            "When his partner in crime goes missing, a small-time crook’s life is transformed as he dedicates himself to raising the daughter his friend left behind.     1\n",
            "During 1962’s Cuban missile crisis, a troubled math genius finds himself drafted to play in a U.S.-Soviet chess match – and a deadly game of espionage.      1\n",
            "A teen's discovery of a vintage Polaroid camera develops into a darker tale when she finds that whoever takes their photo with it dies soon afterward.       1\n",
            "A scrappy but poor boy worms his way into a tycoon's dysfunctional family, while facing his fear of music and the truth about his past.                      1\n",
            "Name: count, Length: 8775, dtype: int64\n"
          ]
        }
      ]
    },
    {
      "cell_type": "markdown",
      "source": [
        "Visualisasikan Dataset"
      ],
      "metadata": {
        "id": "1C2zf68Tja8o"
      }
    },
    {
      "cell_type": "code",
      "source": [
        "# Visualisasi histogram untuk attribute bertipe angka\n",
        "import matplotlib.pyplot as plt\n",
        "\n",
        "numerical_data.hist(figsize=(10, 8), bins=20)\n",
        "plt.show()\n"
      ],
      "metadata": {
        "colab": {
          "base_uri": "https://localhost:8080/",
          "height": 699
        },
        "id": "XlpuBrXQje9g",
        "outputId": "19d2b4fe-c577-494e-ff34-2b568096d4b5"
      },
      "execution_count": 9,
      "outputs": [
        {
          "output_type": "display_data",
          "data": {
            "text/plain": [
              "<Figure size 1000x800 with 1 Axes>"
            ],
            "image/png": "[encoded data removed]"
          },
          "metadata": {}
        }
      ]
    },
    {
      "cell_type": "markdown",
      "source": [
        "Korelasi Dataset Menggunakan Heatmap"
      ],
      "metadata": {
        "id": "RWQ1w8u7jnPZ"
      }
    },
    {
      "cell_type": "code",
      "source": [
        "import seaborn as sns\n",
        "\n",
        "# Korelasi\n",
        "correlation_matrix = numerical_data.corr()\n",
        "\n",
        "# Visualisasikan heatmap\n",
        "plt.figure(figsize=(10, 8))\n",
        "sns.heatmap(correlation_matrix, annot=True, cmap='coolwarm', linewidths=0.5)\n",
        "plt.show()\n"
      ],
      "metadata": {
        "colab": {
          "base_uri": "https://localhost:8080/",
          "height": 682
        },
        "id": "xDmLdm1djsnS",
        "outputId": "84609820-7371-4b79-cc35-3254abf8f072"
      },
      "execution_count": 10,
      "outputs": [
        {
          "output_type": "display_data",
          "data": {
            "text/plain": [
              "<Figure size 1000x800 with 2 Axes>"
            ],
            "image/png": "[encoded data removed]"
          },
          "metadata": {}
        }
      ]
    },
    {
      "cell_type": "markdown",
      "source": [],
      "metadata": {
        "id": "1h0xhz4bkQgM"
      }
    },
    {
      "cell_type": "markdown",
      "source": [
        "kesimpulan dari kode tersebut:\n",
        "\n",
        "Informasi Dataset: Dataset memiliki 8807 record dan 12 atribut. Terdapat 2 atribut numerik yaitu release_year dan show_id.\n",
        "Statistik Deskriptif: Kode tersebut menghitung dan menampilkan statistik deskriptif untuk atribut numerik, termasuk rata-rata, standar deviasi, nilai minimum, nilai maksimum, dan kuartil.\n",
        "Distribusi Data: Kode tersebut memvisualisasikan distribusi data untuk atribut numerik menggunakan histogram.\n",
        "Korelasi: Kode tersebut menghitung dan memvisualisasikan korelasi antar atribut numerik menggunakan heatmap.\n",
        "Data Kategorikal: Kode tersebut menampilkan jumlah label unik untuk setiap atribut kategorikal, seperti tipe, rating, dan negara."
      ],
      "metadata": {
        "id": "3WHF3xnNkTkt"
      }
    },
    {
      "cell_type": "markdown",
      "source": [],
      "metadata": {
        "id": "gL6ShxXukVK3"
      }
    },
    {
      "cell_type": "markdown",
      "source": [
        "\n",
        "Berdasarkan heatmap yang dihasilkan dari kode tersebut, hanya ada dua atribut numerik: show_id dan release_year. Heatmap menunjukkan bahwa kedua atribut tersebut memiliki korelasi yang sangat lemah (mendekati nol).\n",
        "\n",
        "Hal ini berarti tidak ada hubungan linear yang kuat antara show_id dan release_year.\n",
        "\n",
        "Perlu diingat bahwa heatmap ini hanya menunjukkan korelasi antar variabel numerik. Untuk menganalisis hubungan antara variabel kategorikal, Anda perlu menggunakan metode visualisasi dan analisis yang berbeda."
      ],
      "metadata": {
        "id": "N6zH7KtKkbPU"
      }
    }
  ]
}